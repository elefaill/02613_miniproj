{
 "cells": [
  {
   "cell_type": "code",
   "execution_count": 4,
   "id": "9f40e701",
   "metadata": {},
   "outputs": [
    {
     "name": "stdout",
     "output_type": "stream",
     "text": [
      "Average Original Time: 13.25 s\n",
      "Average JIT Time: 2.38 s\n",
      "Average Speedup: 5.5×\n"
     ]
    }
   ],
   "source": [
    "import numpy as np\n",
    "\n",
    "# Data\n",
    "floorplans = [3, 10, 20]\n",
    "original_times = [24.30, 159.60, 313.86]\n",
    "jit_times = [4.47, 28.25, 56.60]\n",
    "\n",
    "matrix = np.array([floorplans, original_times, jit_times])\n",
    "original_1 = np.array(original_times) / np.array(floorplans)\n",
    "jit_1 = np.array(jit_times) / np.array(floorplans)\n",
    "\n",
    "# Calculate averages\n",
    "average_original = np.mean(original_1)\n",
    "average_jit = np.mean(jit_1)\n",
    "average_speedup = np.mean([o / j for o, j in zip(original_times, jit_times)])\n",
    "\n",
    "# Display results\n",
    "print(f\"Average Original Time: {average_original:.2f} s\")\n",
    "print(f\"Average JIT Time: {average_jit:.2f} s\")\n",
    "print(f\"Average Speedup: {average_speedup:.1f}×\")"
   ]
  },
  {
   "cell_type": "code",
   "execution_count": 5,
   "id": "43407061",
   "metadata": {},
   "outputs": [
    {
     "data": {
      "text/plain": [
       "5.567226890756303"
      ]
     },
     "execution_count": 5,
     "metadata": {},
     "output_type": "execute_result"
    }
   ],
   "source": [
    "13.25/2.38\n"
   ]
  },
  {
   "cell_type": "code",
   "execution_count": 9,
   "id": "b3e96f1b",
   "metadata": {},
   "outputs": [
    {
     "data": {
      "text/plain": [
       "16.823819444444446"
      ]
     },
     "execution_count": 9,
     "metadata": {},
     "output_type": "execute_result"
    }
   ],
   "source": [
    "13.25*4571 /60/60\n"
   ]
  },
  {
   "cell_type": "code",
   "execution_count": null,
   "id": "be117e4d",
   "metadata": {},
   "outputs": [],
   "source": []
  }
 ],
 "metadata": {
  "kernelspec": {
   "display_name": "course02613",
   "language": "python",
   "name": "python3"
  },
  "language_info": {
   "codemirror_mode": {
    "name": "ipython",
    "version": 3
   },
   "file_extension": ".py",
   "mimetype": "text/x-python",
   "name": "python",
   "nbconvert_exporter": "python",
   "pygments_lexer": "ipython3",
   "version": "3.12.8"
  }
 },
 "nbformat": 4,
 "nbformat_minor": 5
}
